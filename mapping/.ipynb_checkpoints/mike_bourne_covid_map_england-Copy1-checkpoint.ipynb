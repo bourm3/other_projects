{
 "cells": [
  {
   "cell_type": "code",
   "execution_count": 151,
   "metadata": {},
   "outputs": [],
   "source": [
    "import folium \n",
    "import pandas\n",
    "from colour import Color\n"
   ]
  },
  {
   "cell_type": "code",
   "execution_count": 576,
   "metadata": {},
   "outputs": [
    {
     "data": {
      "text/plain": [
       "'/Users/MikeB/Desktop/python_training'"
      ]
     },
     "execution_count": 576,
     "metadata": {},
     "output_type": "execute_result"
    }
   ],
   "source": [
    "pwd\n"
   ]
  },
  {
   "cell_type": "code",
   "execution_count": null,
   "metadata": {},
   "outputs": [],
   "source": []
  },
  {
   "cell_type": "code",
   "execution_count": null,
   "metadata": {},
   "outputs": [],
   "source": [
    "\n",
    "\n"
   ]
  },
  {
   "cell_type": "code",
   "execution_count": 570,
   "metadata": {},
   "outputs": [],
   "source": [
    "import folium \n",
    "import pandas\n",
    "import json\n",
    "\n",
    "# definition to return colour code based on input number\n",
    "# in this case number is number of covid cases in an English county upto 22nd June\n",
    "\n",
    "def col_GOR(number):\n",
    "    if(number < 1000):\n",
    "        return 'green'\n",
    "    elif ( 1000 < number < 2500):\n",
    "        return 'orange'\n",
    "    else:\n",
    "        return 'red'\n",
    "\n",
    "\n",
    "def col_grey(number, min_no=0, max_no=5000):\n",
    "    if number > max_no : max_no = number +1\n",
    "    number = number / max_no * 100 \n",
    "    colours = list(Color(\"white\").range_to(Color(\"black\"),100))\n",
    "\n",
    "    if(int(number)-1 <= 0): return 'white'\n",
    "    else:\n",
    "        return str(colours[int(number)-1])\n",
    "    \n",
    "# read in csv file containing the covid-19 data for England data. \n",
    "# create dictionary from this csv; number of cases (cases) and couty names (names)\n",
    "\n",
    "covid_eng_df = pandas.read_csv('/Users/MikeB/Desktop/mapping/covid_eng.csv', usecols=['TotalCases','AreaCode'])\n",
    "\n",
    "covid_numbers = covid_eng_df.set_index('AreaCode')['TotalCases'].to_dict()\n",
    "\n",
    "\n",
    "# read in json file containing the other data for England coutnies (eg lat, long).\n",
    "\n",
    "with open('/Users/MikeB/Desktop/mapping/Counties_Eng_Wales.geojson', encoding='utf-8-sig') as f:\n",
    "    data = json.load(f)\n",
    "        \n",
    "\n",
    "     # loop through the json file\n",
    "\n",
    "    for feature in data['features']:\n",
    "            \n",
    "        # for each name in json file, ammend json file with numner of cases from dictionary\n",
    "       \n",
    "        if feature['properties']['ctyua16cd'] in covid_numbers.keys():\n",
    "            feature['properties']['bng_e'] = covid_numbers[feature['properties']['ctyua16cd']]\n",
    "        else:\n",
    "            feature['properties']['bng_e']  = 0\n",
    "\n",
    "\n",
    "\n",
    "\n",
    "\n",
    "# generate base map\n",
    "\n",
    "england_map = folium.Map(location=[53.769790, -0.3], zoom_start=7,tiles = \"Stamen Terrain\")\n",
    "\n",
    "\n",
    "fgcases = folium.FeatureGroup(name='Total Cases upto 21st June 2020')\n",
    "\n",
    "\n",
    "# loop throught the geojson file\n",
    "\n",
    "for feature in data['features']:\n",
    "        \n",
    "        lat = feature['properties']['lat']\n",
    "        long = feature['properties']['long']\n",
    "        cases = feature['properties']['bng_e']\n",
    "        name = feature['properties']['ctyua16nm']\n",
    "\n",
    "        #determine traffic light code for area based on number of cases reported\n",
    "        colour  = col_GOR(cases)\n",
    "        \n",
    "# add the counties Locations to the basemap as a point - both Circle and popup Marker\n",
    "# pop menu to include name of authority and number of Covdi cases\n",
    "        if(feature['properties']['ctyua16cd'][0] == 'E'):\n",
    "            fgcases.add_child(folium.CircleMarker(location=[lat,long], \n",
    "              popup= None, radius = 7, fill_color = 'blue', \n",
    "              color = 'grey', fill_opacity = 1))\n",
    "    \n",
    "            fgcases.add_child(folium.Marker(location=[lat,long], \n",
    "                popup=name + '\\n' + str(cases) + ' cases ', \n",
    "                icon=folium.Icon(color=colour)))\n",
    "        \n",
    "\n",
    "# read in Jason file for counties of England and Wales\n",
    "\n",
    "fgareas = folium.FeatureGroup(name='Counties & Unified Authorities')\n",
    "\n",
    "fgareas.add_child(folium.features.GeoJson(data , \n",
    "#style_function=lambda x: {'fillColor': 'grey' , 'fillOpacity' : 1}) )\n",
    "#style_function=lambda x: {'fillColor': col_grey(x['properties']['bng_e']) , 'fillOpacity' : 1  }   ) )\n",
    "\n",
    "#style_function=lambda x: {'fillColor': '#e8e8e8', 'fillOpacity' : 1  }   ) )\n",
    "\n",
    "style_function=lambda x: {'fillColor': col_grey(x['properties']['bng_e']) , \n",
    "                          'fillOpacity' : 1  ,  'color': 'black' }\n",
    "            # check that polygon is in England ('E')\n",
    "            if x['properties']['ctyua16cd'][0] is 'E'  \n",
    "            # else polygon is in Wales - make opacity =0 \n",
    "                  else {'fillColor': 'red' ,'fillOpacity' : 0, 'color': 0} ))\n",
    "\n",
    "\n",
    "\n",
    "# add child data and LayerControl functionality to the map & save\n",
    "\n",
    "england_map.add_child(fgareas)\n",
    "england_map.add_child(fgcases)\n",
    "england_map.add_child(folium.LayerControl())\n",
    "\n",
    "\n",
    "\n",
    "england_map.save(\"/Users/MikeB/Desktop/mapping/Map_England_Covid19.html\")\n",
    "\n",
    "\n",
    "\n"
   ]
  },
  {
   "cell_type": "code",
   "execution_count": 567,
   "metadata": {},
   "outputs": [
    {
     "data": {
      "text/plain": [
       "491.0"
      ]
     },
     "execution_count": 567,
     "metadata": {},
     "output_type": "execute_result"
    }
   ],
   "source": [
    "\n",
    "covid_numbers[\"E06000028\"]"
   ]
  },
  {
   "cell_type": "code",
   "execution_count": 568,
   "metadata": {},
   "outputs": [
    {
     "data": {
      "text/plain": [
       "491.0"
      ]
     },
     "execution_count": 568,
     "metadata": {},
     "output_type": "execute_result"
    }
   ],
   "source": [
    "covid_numbers[\"E06000029\"]"
   ]
  },
  {
   "cell_type": "code",
   "execution_count": 569,
   "metadata": {},
   "outputs": [
    {
     "data": {
      "text/plain": [
       "372.0"
      ]
     },
     "execution_count": 569,
     "metadata": {},
     "output_type": "execute_result"
    }
   ],
   "source": [
    "covid_numbers[\"E10000009\"]"
   ]
  },
  {
   "cell_type": "code",
   "execution_count": null,
   "metadata": {},
   "outputs": [],
   "source": []
  }
 ],
 "metadata": {
  "kernelspec": {
   "display_name": "Python 3",
   "language": "python",
   "name": "python3"
  },
  "language_info": {
   "codemirror_mode": {
    "name": "ipython",
    "version": 3
   },
   "file_extension": ".py",
   "mimetype": "text/x-python",
   "name": "python",
   "nbconvert_exporter": "python",
   "pygments_lexer": "ipython3",
   "version": "3.7.6"
  }
 },
 "nbformat": 4,
 "nbformat_minor": 4
}
