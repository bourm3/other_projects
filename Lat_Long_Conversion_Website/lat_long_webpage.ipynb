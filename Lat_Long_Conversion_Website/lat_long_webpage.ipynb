{
 "cells": [
  {
   "cell_type": "markdown",
   "metadata": {},
   "source": [
    "<h1>Lat/Long Conversion Website - </h1>\n",
    "<h3>Convert Addresses to Lat/Long from input .csv file</h3>\n",
    "<p>\n",
    "This is a web app that I have created which:\n",
    "    \n",
    "    (i) asks users to upload a csv file to a website \n",
    "        - The csv file must contain  a column called 'Address'\n",
    "    (ii) calculates the lat/long of the addresses provided\n",
    "    (iii) displays a dataframe containing the lat/long of the given addresses.\n",
    "    \n",
    "I am using flash for rendering the website and geocoders to calculate lat/long\n",
    "\n",
    "The html and css files for the webpage are named:\n",
    "\n",
    "    (i) templates/upload.html (main page) and \n",
    "    (ii) The css stylesheet is called static/main.css\n",
    "\n",
    "The working app can be seen and used at:\n",
    "    bourneupload.herokuapp.com\n",
    "and a screen capture is shown at the bottom of this notebook.\n",
    "<p>\n",
    "    \n",
    "   Mike Bourne"
   ]
  },
  {
   "cell_type": "code",
   "execution_count": null,
   "metadata": {},
   "outputs": [],
   "source": [
    "from flask import Flask,render_template,request\n",
    "import pandas as pd\n",
    "from geopy.geocoders import ArcGIS\n",
    "\n",
    "\n",
    "#Initial the Flask appllication called 'app'\n",
    "app=Flask(__name__)\n",
    "\n",
    "\n",
    "\n",
    "#defining the main starting page of the webapp - 'upload.html'\n",
    "@app.route(\"/\")\n",
    "def index():\n",
    "    return render_template(\"upload.html\")\n",
    "\n",
    "#defining the def 'success' which is used to update the 'upload.html' page\n",
    "#This is activated when the user clicks UPLOAD \n",
    "@app.route(\"/success\", methods=['POST'])\n",
    "def success(): \n",
    "    \n",
    "    if request.method == 'POST':\n",
    "        #gather the data from the upload.html page. Asign to a panda dataframe\n",
    "        file = request.files['file']\n",
    "        #read the data into a panda dataframe\n",
    "        df = pd.read_csv(file)\n",
    "\n",
    "        #See if the file contains an 'Address' column - this is required\n",
    "        try:\n",
    "            df = df[['Address']]\n",
    "            #if so, create an instance of ArcGIS\n",
    "            nom=ArcGIS()\n",
    "\n",
    "            #calculate the coordinates of all the data in the Address column\n",
    "            #assign to a new column called Coordinates\n",
    "            df['Coordinates']=df['Address'].apply(nom.geocode)  \n",
    "            \n",
    "            #seperate out the Latitude and Longitude from the coordinate column\n",
    "            #then remove the redundant Coordinates column\n",
    "            df['Latitude']=df['Coordinates'].apply(lambda x: x.latitude)\n",
    "            df['Long']=df['Coordinates'].apply(lambda x: x.longitude)\n",
    "            del df['Coordinates']\n",
    "            \n",
    "            #finally, re-render the upload.html page with the table included         \n",
    "            return render_template(\"upload.html\", \n",
    "                text_box=\"file uploaded - see table below\" ,\n",
    "                tables=[df.to_html(classes=\"table-bordered\", header=\"true\")] )\n",
    "  \n",
    "        #if no Address column exists, let the user know\n",
    "        except:\n",
    "            return render_template(\"upload.html\", \n",
    "            text_box=\"Error - no 'Address' column in csv file\")            \n",
    "        \n",
    "    # inform user that there is an error with posting\n",
    "    else: \n",
    "        return render_template(\"upload.html\", \n",
    "        text_box=\"Error - no data uploaded\")\n",
    "\n",
    "if __name__ == '__main__':\n",
    "    app.debug = True\n",
    "    app.run()"
   ]
  },
  {
   "cell_type": "markdown",
   "metadata": {},
   "source": [
    "The image belows is a screencapture of the output website:\n",
    "\n",
    "<img src=\"output.png\">"
   ]
  },
  {
   "cell_type": "code",
   "execution_count": null,
   "metadata": {},
   "outputs": [],
   "source": []
  }
 ],
 "metadata": {
  "kernelspec": {
   "display_name": "Python 3",
   "language": "python",
   "name": "python3"
  },
  "language_info": {
   "codemirror_mode": {
    "name": "ipython",
    "version": 3
   },
   "file_extension": ".py",
   "mimetype": "text/x-python",
   "name": "python",
   "nbconvert_exporter": "python",
   "pygments_lexer": "ipython3",
   "version": "3.7.7"
  }
 },
 "nbformat": 4,
 "nbformat_minor": 4
}
