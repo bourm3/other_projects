{
 "cells": [
  {
   "cell_type": "markdown",
   "metadata": {},
   "source": [
    "<h3>Oil Price Chart</h3>\n",
    "\n",
    "<h4><p>A quick script to plot the oil price from Yahoo finance using pandas-datareader\n",
    "\n",
    "plotting with Bokeh</h4>\n",
    "\n",
    "<p>\n",
    "First Import Panda Datareader and DateTime"
   ]
  },
  {
   "cell_type": "code",
   "execution_count": 216,
   "metadata": {},
   "outputs": [],
   "source": [
    "from pandas_datareader import data\n",
    "import datetime"
   ]
  },
  {
   "cell_type": "markdown",
   "metadata": {},
   "source": [
    "<p>\n",
    "Setting the time range for the graph and then importing the data from yahoo using datareader"
   ]
  },
  {
   "cell_type": "code",
   "execution_count": 290,
   "metadata": {
    "scrolled": false
   },
   "outputs": [],
   "source": [
    "end = datetime.datetime.now().date()-datetime.timedelta(1)\n",
    "start = datetime.datetime.now().date()-datetime.timedelta(335)\n",
    "df = data.DataReader(name='BZ=F',data_source=\"yahoo\",start= start ,end= end)"
   ]
  },
  {
   "cell_type": "markdown",
   "metadata": {},
   "source": [
    "<p>\n",
    "Create a function (stock_change) to evaluate where one input value (c) is an increase, decrease or no chage from a second inout value (o)"
   ]
  },
  {
   "cell_type": "code",
   "execution_count": 291,
   "metadata": {},
   "outputs": [],
   "source": [
    "def stock_change(c,o):\n",
    "    if(c > o):\n",
    "        return \"increase\"\n",
    "    elif(c< o):\n",
    "        return \"decrease\"\n",
    "    else:\n",
    "        return \"equal\"\n",
    "\n"
   ]
  },
  {
   "cell_type": "markdown",
   "metadata": {},
   "source": [
    "Add three new columns to the dataframe (df):\n",
    "\n",
    "Status - use function stock_change to see how the close price \n",
    "compares to the open price\n",
    "\n",
    "Middle - is the mid point between Open and Close\n",
    "\n",
    "Height - is the difference between Open and Close in absolute terms"
   ]
  },
  {
   "cell_type": "code",
   "execution_count": 292,
   "metadata": {},
   "outputs": [],
   "source": [
    "df[\"Status\"]=[stock_change(c,o) for c,o in zip(df.Close,df.Open)]\n",
    "df[\"Middle\"]=(df.Open+df.Close)/2\n",
    "df[\"Height\"]=abs(df.Open-df.Close)\n"
   ]
  },
  {
   "cell_type": "markdown",
   "metadata": {},
   "source": [
    "Plot data using bokeh\n",
    "\n",
    "The figure is a candelstick chart saved as cs.html\n",
    "\n",
    "First plot the high-to-low values as black line (p.segment)\n",
    "\n",
    "Next, plot rectangles for showing the range between the open and close prices (green for days of stock gain, red for loses)"
   ]
  },
  {
   "cell_type": "code",
   "execution_count": 293,
   "metadata": {},
   "outputs": [],
   "source": [
    "from bokeh.plotting import figure,show, output_file"
   ]
  },
  {
   "cell_type": "code",
   "execution_count": 294,
   "metadata": {},
   "outputs": [],
   "source": [
    "p=figure(x_axis_type='datetime', title=\"Candelstick Chart for the Oil Price\", width=600,height=300)\n",
    "p.grid.grid_line_alpha=0.3\n",
    "\n",
    "p.segment(df.index,df.High,df.index,df.Low,line_color='black')\n",
    "\n",
    "p.rect(df.index[df.Status==\"increase\"],\n",
    "       df.Middle[df.Status==\"increase\"],\n",
    "       (12*60*60*1000),\n",
    "       df.Height[df.Status==\"increase\"],\n",
    "        fill_color='green')\n",
    "\n",
    "p.rect(df.index[df.Status==\"decrease\"],\n",
    "       df.Middle[df.Status==\"decrease\"],\n",
    "       (12*60*60*1000),\n",
    "       df.Height[df.Status==\"decrease\"],\n",
    "        fill_color='red')\n",
    "\n",
    "\n",
    "output_file('cs.html')\n",
    "show(p)"
   ]
  },
  {
   "cell_type": "markdown",
   "metadata": {},
   "source": [
    "Create the graph as an embeded graph in a website"
   ]
  },
  {
   "cell_type": "code",
   "execution_count": 259,
   "metadata": {},
   "outputs": [],
   "source": [
    "from bokeh.embed import components\n",
    "from bokeh.resources  import CDN"
   ]
  },
  {
   "cell_type": "code",
   "execution_count": 268,
   "metadata": {},
   "outputs": [],
   "source": [
    "java_script,web =components(p)\n",
    "cdn_js=CDN.js_files\n"
   ]
  },
  {
   "cell_type": "markdown",
   "metadata": {},
   "source": [
    "the output embedded graph can be seen on this webpage:\n",
    "\n",
    "https://bourne123.herokuapp.com/plot/"
   ]
  }
 ],
 "metadata": {
  "kernelspec": {
   "display_name": "Python 3",
   "language": "python",
   "name": "python3"
  },
  "language_info": {
   "codemirror_mode": {
    "name": "ipython",
    "version": 3
   },
   "file_extension": ".py",
   "mimetype": "text/x-python",
   "name": "python",
   "nbconvert_exporter": "python",
   "pygments_lexer": "ipython3",
   "version": "3.7.6"
  }
 },
 "nbformat": 4,
 "nbformat_minor": 4
}
